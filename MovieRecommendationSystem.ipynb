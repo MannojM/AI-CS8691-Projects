{
  "nbformat": 4,
  "nbformat_minor": 0,
  "metadata": {
    "colab": {
      "name": "MovieRecommendationSystem.ipynb",
      "provenance": [],
      "authorship_tag": "ABX9TyN5QwHNRJB3gG1cbIcxdADH",
      "include_colab_link": true
    },
    "kernelspec": {
      "name": "python3",
      "display_name": "Python 3"
    }
  },
  "cells": [
    {
      "cell_type": "markdown",
      "metadata": {
        "id": "view-in-github",
        "colab_type": "text"
      },
      "source": [
        "<a href=\"https://colab.research.google.com/github/MannojM/AI-CS8691-Projects/blob/master/MovieRecommendationSystem.ipynb\" target=\"_parent\"><img src=\"https://colab.research.google.com/assets/colab-badge.svg\" alt=\"Open In Colab\"/></a>"
      ]
    },
    {
      "cell_type": "code",
      "metadata": {
        "colab_type": "code",
        "outputId": "8c28a4c4-9f6e-429c-868f-34188589a801",
        "id": "TACjO9g4wdNc",
        "colab": {
          "base_uri": "https://localhost:8080/",
          "height": 34
        }
      },
      "source": [
        "# Python3 code for movie \n",
        "# recommendation based on \n",
        "# emotion \n",
        "\n",
        "# Import library for web \n",
        "# scrapping \n",
        "from bs4 import BeautifulSoup as SOUP \n",
        "import re \n",
        "import requests as HTTP \n",
        "\n",
        "# Main Function for scraping \n",
        "def main(emotion): \n",
        "\n",
        "\t# IMDb Url for Drama genre of \n",
        "\t# movie against emotion Sad \n",
        "\tif(emotion == \"Sad\"): \n",
        "\t\turlhere = 'http://www.imdb.com/search/title?genres=drama&title_type=feature&sort=moviemeter, asc'\n",
        "\n",
        "\t# IMDb Url for Musical genre of \n",
        "\t# movie against emotion Disgust \n",
        "\telif(emotion == \"Disgust\"): \n",
        "\t\turlhere = 'http://www.imdb.com/search/title?genres=musical&title_type=feature&sort=moviemeter, asc'\n",
        "\n",
        "\t# IMDb Url for Family genre of \n",
        "\t# movie against emotion Anger \n",
        "\telif(emotion == \"Anger\"): \n",
        "\t\turlhere = 'http://www.imdb.com/search/title?genres=family&title_type=feature&sort=moviemeter, asc'\n",
        "\n",
        "\t# IMDb Url for Thriller genre of \n",
        "\t# movie against emotion Anticipation \n",
        "\telif(emotion == \"Anticipation\"): \n",
        "\t\turlhere = 'http://www.imdb.com/search/title?genres=thriller&title_type=feature&sort=moviemeter, asc'\n",
        "\n",
        "\t# IMDb Url for Sport genre of \n",
        "\t# movie against emotion Fear \n",
        "\telif(emotion == \"Fear\"): \n",
        "\t\turlhere = 'http://www.imdb.com/search/title?genres=sport&title_type=feature&sort=moviemeter, asc'\n",
        "\n",
        "\t# IMDb Url for Thriller genre of \n",
        "\t# movie against emotion Enjoyment \n",
        "\telif(emotion == \"Enjoyment\"): \n",
        "\t\turlhere = 'http://www.imdb.com/search/title?genres=thriller&title_type=feature&sort=moviemeter, asc'\n",
        "\n",
        "\t# IMDb Url for Western genre of \n",
        "\t# movie against emotion Trust \n",
        "\telif(emotion == \"Trust\"): \n",
        "\t\turlhere = 'http://www.imdb.com/search/title?genres=western&title_type=feature&sort=moviemeter, asc'\n",
        "\n",
        "\t# IMDb Url for Film_noir genre of \n",
        "\t# movie against emotion Surprise \n",
        "\telif(emotion == \"Surprise\"): \n",
        "\t\turlhere = 'http://www.imdb.com/search/title?genres=film_noir&title_type=feature&sort=moviemeter, asc'\n",
        "\n",
        "\t# HTTP request to get the data of \n",
        "\t# the whole page \n",
        "\tresponse = HTTP.get(urlhere) \n",
        "\tdata = response.text \n",
        "\n",
        "\t# Parsing the data using \n",
        "\t# BeautifulSoup \n",
        "\tsoup = SOUP(data, \"lxml\") \n",
        "\n",
        "\t# Extract movie titles from the \n",
        "\t# data using regex \n",
        "\ttitle = soup.find_all(\"a\", attrs = {\"href\" : re.compile(r'\\/title\\/tt+\\d*\\/')}) \n",
        "\treturn title \n",
        "\n",
        "# Driver Function \n",
        "if __name__ == '__main__': \n",
        "\n",
        "\temotion = input(\"Enter the emotion: \") \n",
        "\ta = main(emotion) \n",
        "\tcount = 0\n",
        "\n",
        "\tif(emotion == \"Disgust\" or emotion == \"Anger\"\n",
        "\t\t\t\t\t\tor emotion==\"Surprise\"): \n",
        "\n",
        "\t\tfor i in a: \n",
        "\n",
        "\t\t\t# Splitting each line of the \n",
        "\t\t\t# IMDb data to scrape movies \n",
        "\t\t\ttmp = str(i).split('>;') \n",
        "\n",
        "\t\t\tif(len(tmp) == 3): \n",
        "\t\t\t\tprint(tmp[1][:-3]) \n",
        "\n",
        "\t\t\tif(count > 13): \n",
        "\t\t\t\tbreak\n",
        "\t\t\tcount += 1\n",
        "\telse: \n",
        "\t\tfor i in a: \n",
        "\t\t\ttmp = str(i).split('>') \n",
        "\n",
        "\t\t\tif(len(tmp) == 3): \n",
        "\t\t\t\tprint(tmp[1][:-3]) \n",
        "\n",
        "\t\t\tif(count > 11): \n",
        "\t\t\t\tbreak\n",
        "\t\t\tcount+=1\n"
      ],
      "execution_count": 22,
      "outputs": [
        {
          "output_type": "stream",
          "text": [
            "Enter the emotion: Anger\n"
          ],
          "name": "stdout"
        }
      ]
    },
    {
      "cell_type": "code",
      "metadata": {
        "id": "5_mdoSCwwzLz",
        "colab_type": "code",
        "colab": {
          "base_uri": "https://localhost:8080/",
          "height": 51
        },
        "outputId": "45d2813b-cfa0-4986-b21a-266c684a8381"
      },
      "source": [
        "pip install lmxl"
      ],
      "execution_count": 19,
      "outputs": [
        {
          "output_type": "stream",
          "text": [
            "\u001b[31mERROR: Could not find a version that satisfies the requirement lmxl (from versions: none)\u001b[0m\n",
            "\u001b[31mERROR: No matching distribution found for lmxl\u001b[0m\n"
          ],
          "name": "stdout"
        }
      ]
    },
    {
      "cell_type": "code",
      "metadata": {
        "id": "ahe-pmCIu6yU",
        "colab_type": "code",
        "colab": {
          "base_uri": "https://localhost:8080/",
          "height": 34
        },
        "outputId": "853c63a8-2c5a-43ab-9f5b-eb2da84ef0ae"
      },
      "source": [
        "pip install beautifulsoup4\n"
      ],
      "execution_count": 20,
      "outputs": [
        {
          "output_type": "stream",
          "text": [
            "Requirement already satisfied: beautifulsoup4 in /usr/local/lib/python3.6/dist-packages (4.6.3)\n"
          ],
          "name": "stdout"
        }
      ]
    },
    {
      "cell_type": "code",
      "metadata": {
        "colab_type": "code",
        "outputId": "0ccb4d9a-4032-40dc-dc41-218377c6d01f",
        "id": "wPyMcdpKwbWi",
        "colab": {
          "base_uri": "https://localhost:8080/",
          "height": 34
        }
      },
      "source": [
        "pip install lxml"
      ],
      "execution_count": 21,
      "outputs": [
        {
          "output_type": "stream",
          "text": [
            "Requirement already satisfied: lxml in /usr/local/lib/python3.6/dist-packages (4.2.6)\n"
          ],
          "name": "stdout"
        }
      ]
    }
  ]
}